{
 "cells": [
  {
   "cell_type": "code",
   "execution_count": 8,
   "source": [
    "#DataProcessingUsingPython\r\n",
    "#WEEK1\r\n",
    "import math"
   ],
   "outputs": [],
   "metadata": {}
  },
  {
   "cell_type": "code",
   "execution_count": 15,
   "source": [
    "def proc(n):\r\n",
    "    if n<0:\r\n",
    "        print('-', end = '')\r\n",
    "        n = -n\r\n",
    "    if n // 10:\r\n",
    "        proc(n // 10 )\r\n",
    "    print(n % 10, end = '')\r\n",
    "\r\n",
    "proc(-345 )\r\n"
   ],
   "outputs": [
    {
     "output_type": "stream",
     "name": "stdout",
     "text": [
      "-3451"
     ]
    }
   ],
   "metadata": {}
  }
 ],
 "metadata": {
  "orig_nbformat": 4,
  "language_info": {
   "name": "python",
   "version": "3.8.5",
   "mimetype": "text/x-python",
   "codemirror_mode": {
    "name": "ipython",
    "version": 3
   },
   "pygments_lexer": "ipython3",
   "nbconvert_exporter": "python",
   "file_extension": ".py"
  },
  "kernelspec": {
   "name": "python3",
   "display_name": "Python 3.8.5 64-bit"
  },
  "interpreter": {
   "hash": "ecd4d3bc335de325453878c0a2db290d59e996fa07629a3bb9d45454b2d42da7"
  }
 },
 "nbformat": 4,
 "nbformat_minor": 2
}